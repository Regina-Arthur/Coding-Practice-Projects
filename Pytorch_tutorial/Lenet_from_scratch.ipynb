{
  "nbformat": 4,
  "nbformat_minor": 0,
  "metadata": {
    "colab": {
      "provenance": [],
      "authorship_tag": "ABX9TyOYaxSV0ECY3t8cpla2sVTp",
      "include_colab_link": true
    },
    "kernelspec": {
      "name": "python3",
      "display_name": "Python 3"
    },
    "language_info": {
      "name": "python"
    }
  },
  "cells": [
    {
      "cell_type": "markdown",
      "metadata": {
        "id": "view-in-github",
        "colab_type": "text"
      },
      "source": [
        "<a href=\"https://colab.research.google.com/github/Regina-Arthur/Python-Coding-Projects/blob/main/Pytorch_tutorial/Lenet_from_scratch.ipynb\" target=\"_parent\"><img src=\"https://colab.research.google.com/assets/colab-badge.svg\" alt=\"Open In Colab\"/></a>"
      ]
    },
    {
      "cell_type": "code",
      "execution_count": null,
      "metadata": {
        "id": "yNRbsZvkdC0L"
      },
      "outputs": [],
      "source": [
        "#Importing the necessary libraries\n",
        "import torch\n",
        "import torch.nn as nn\n",
        "import torch.nn.functional as F\n",
        "import torchvision"
      ]
    },
    {
      "cell_type": "code",
      "source": [
        "class lenet(nn.Module):\n",
        "  def__init__(self, classes = 2):\n",
        "    super().__init__()\n",
        "    #The convolutional layers\n",
        "    self.conv1 = nn.Conv2d(in_channels = 1, out_channels = 6, kernel_size = 5)\n",
        "    self.conv2 = nn.Conv2d(in_channels = 6, out_channels = 16, kernel_size = 5)\n",
        "    self.conv3 = nn.Conv2d(in_channels = 16, out_channels = 120, kernel_size = 5)\n",
        "\n",
        "    #The pooling layer\n",
        "    self.pool = nn.AvgPool2d(kernel_size = 2, stride = 2)\n",
        "\n",
        "    #The flattening layer\n",
        "    self.flatten = nn.Flatten()\n",
        "\n",
        "    #The fully connected layer\n",
        "    self.FC1 = nn.Linear(in_features = 120, out_features = 84)\n",
        "    self.FC2 = nn.Linear(in_features = 84, out_features = classes)\n",
        "\n",
        "  #The forward pass\n",
        "  def forward(self,x):\n",
        "    x = self.pool(F.tanh(self.conv1(x)))\n",
        "    x = self.pool(F.tanh(self.conv2(x)))\n",
        "    x = self.flatten(F.tanh(self.conv3(x)))\n",
        "    x = F.tanh(self.FC1(x))\n",
        "    x = self.FC2(x)\n",
        "    return x"
      ],
      "metadata": {
        "id": "p1umsf_A_Ne4"
      },
      "execution_count": null,
      "outputs": []
    }
  ]
}