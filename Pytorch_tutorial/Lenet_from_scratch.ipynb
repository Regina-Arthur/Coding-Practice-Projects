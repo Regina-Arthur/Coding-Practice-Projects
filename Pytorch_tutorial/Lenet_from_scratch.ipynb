{
  "nbformat": 4,
  "nbformat_minor": 0,
  "metadata": {
    "colab": {
      "provenance": [],
      "mount_file_id": "168NhNx5tkAkktMQdwyfwIlj2tWtokoxG",
      "authorship_tag": "ABX9TyMhmon+OB7fyrEntbz/NItI",
      "include_colab_link": true
    },
    "kernelspec": {
      "name": "python3",
      "display_name": "Python 3"
    },
    "language_info": {
      "name": "python"
    }
  },
  "cells": [
    {
      "cell_type": "markdown",
      "metadata": {
        "id": "view-in-github",
        "colab_type": "text"
      },
      "source": [
        "<a href=\"https://colab.research.google.com/github/Regina-Arthur/Python-Coding-Projects/blob/main/Pytorch_tutorial/Lenet_from_scratch.ipynb\" target=\"_parent\"><img src=\"https://colab.research.google.com/assets/colab-badge.svg\" alt=\"Open In Colab\"/></a>"
      ]
    },
    {
      "cell_type": "code",
      "source": [
        "from google.colab import drive\n",
        "drive.mount('/content/drive')"
      ],
      "metadata": {
        "id": "M1JjHRbUOlaz"
      },
      "execution_count": null,
      "outputs": []
    },
    {
      "cell_type": "code",
      "execution_count": null,
      "metadata": {
        "id": "yNRbsZvkdC0L"
      },
      "outputs": [],
      "source": [
        "#Importing the necessary libraries\n",
        "import torch\n",
        "import torch.nn as nn\n",
        "import torch.nn.functional as F\n",
        "import torchvision\n",
        "from torchvision import transforms\n",
        "from torchvision.datasets import ImageFolder\n",
        "from torch.utils.data import Dataloader\n"
      ]
    },
    {
      "cell_type": "code",
      "source": [
        "device = torch.device(\"cuda\" if torch.is_available() else \"cpu\")\n",
        "device"
      ],
      "metadata": {
        "id": "XEtoCZx7TFlz"
      },
      "execution_count": null,
      "outputs": []
    },
    {
      "cell_type": "code",
      "source": [
        "#Data directory\n",
        "data = \"/content/drive/MyDrive/concrete_data\"\n",
        "\n",
        "# Transform for data\n",
        "transform = transforms.Compose([\n",
        "    transforms.Grayscale(1),\n",
        "    transforms.Resize((32, 32)),\n",
        "    transforms.ToTensor()\n",
        "])\n",
        "\n",
        "# ImageFolder to load data with folder names as class names\n",
        "dataset = datasets.ImageFolder(root=root, transform=transform)\n",
        "\n",
        "# Group indices by class\n",
        "class_indices = {cls: [] for cls in range(len(dataset.classes))}\n",
        "for idx, (_, label) in enumerate(dataset):\n",
        "    class_indices[label].append(idx)\n",
        "\n",
        "# Take the first 100 per class (sorted order)\n",
        "selected_indices = []\n",
        "for cls, indices in class_indices.items():\n",
        "    indices.sort()  # make sure it's in consistent order\n",
        "    selected_indices.extend(indices[:100])  # take first 100\n",
        "\n",
        "# Create train subset\n",
        "train = Subset(dataset, selected_indices)\n",
        "\n",
        "# Take the 50 per class (sorted order)\n",
        "selected_indices = []\n",
        "for cls, indices in class_indices.items():\n",
        "    indices.sort()  # make sure it's in consistent order\n",
        "    selected_indices.extend(indices[500:551])\n",
        "\n",
        "# Create test subset\n",
        "test = Subset(dataset, selected_indices)\n",
        "\n",
        "# DataLoader\n",
        "loader_train = DataLoader(train, batch_size=32, shuffle=True)\n",
        "loader_test = DataLoader(test, batch_size=32, shuffle=True)"
      ],
      "metadata": {
        "id": "Vj8ONEU4Oq3y"
      },
      "execution_count": null,
      "outputs": []
    },
    {
      "cell_type": "code",
      "source": [
        "class lenet(nn.Module):\n",
        "  def __init__(self, classes = 2):\n",
        "    super().__init__()\n",
        "    #The convolutional layers\n",
        "    self.conv1 = nn.Conv2d(in_channels = 1, out_channels = 6, kernel_size = 5)\n",
        "    self.conv2 = nn.Conv2d(in_channels = 6, out_channels = 16, kernel_size = 5)\n",
        "    self.conv3 = nn.Conv2d(in_channels = 16, out_channels = 120, kernel_size = 5)\n",
        "\n",
        "    #The pooling layer\n",
        "    self.pool = nn.AvgPool2d(kernel_size = 2, stride = 2)\n",
        "\n",
        "    #The flattening layer\n",
        "    self.flatten = nn.Flatten()\n",
        "\n",
        "    #The fully connected layer\n",
        "    self.FC1 = nn.Linear(in_features = 120, out_features = 84)\n",
        "    self.FC2 = nn.Linear(in_features = 84, out_features = classes)\n",
        "\n",
        "  #The forward pass\n",
        "  def forward(self,x):\n",
        "    x = self.pool(F.tanh(self.conv1(x)))\n",
        "    x = self.pool(F.tanh(self.conv2(x)))\n",
        "    x = self.flatten(F.tanh(self.conv3(x)))\n",
        "    x = F.tanh(self.FC1(x))\n",
        "    x = self.FC2(x)\n",
        "    return x"
      ],
      "metadata": {
        "id": "p1umsf_A_Ne4"
      },
      "execution_count": null,
      "outputs": []
    }
  ]
}