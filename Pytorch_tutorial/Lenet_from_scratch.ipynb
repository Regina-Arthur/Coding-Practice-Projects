{
  "nbformat": 4,
  "nbformat_minor": 0,
  "metadata": {
    "colab": {
      "provenance": [],
      "gpuType": "T4",
      "mount_file_id": "168NhNx5tkAkktMQdwyfwIlj2tWtokoxG",
      "authorship_tag": "ABX9TyMrldz0QvbCTk6i1GmnPtVJ",
      "include_colab_link": true
    },
    "kernelspec": {
      "name": "python3",
      "display_name": "Python 3"
    },
    "language_info": {
      "name": "python"
    },
    "accelerator": "GPU"
  },
  "cells": [
    {
      "cell_type": "markdown",
      "metadata": {
        "id": "view-in-github",
        "colab_type": "text"
      },
      "source": [
        "<a href=\"https://colab.research.google.com/github/Regina-Arthur/Python-Coding-Projects/blob/main/Pytorch_tutorial/Lenet_from_scratch.ipynb\" target=\"_parent\"><img src=\"https://colab.research.google.com/assets/colab-badge.svg\" alt=\"Open In Colab\"/></a>"
      ]
    },
    {
      "cell_type": "code",
      "source": [
        "from google.colab import drive\n",
        "drive.mount('/content/drive')"
      ],
      "metadata": {
        "colab": {
          "base_uri": "https://localhost:8080/"
        },
        "id": "M1JjHRbUOlaz",
        "outputId": "c152b110-fedc-44eb-d240-d986e2fcc8c9"
      },
      "execution_count": 1,
      "outputs": [
        {
          "output_type": "stream",
          "name": "stdout",
          "text": [
            "Drive already mounted at /content/drive; to attempt to forcibly remount, call drive.mount(\"/content/drive\", force_remount=True).\n"
          ]
        }
      ]
    },
    {
      "cell_type": "code",
      "execution_count": 2,
      "metadata": {
        "id": "yNRbsZvkdC0L"
      },
      "outputs": [],
      "source": [
        "#Importing the necessary libraries\n",
        "import torch\n",
        "import torch.nn as nn\n",
        "import torch.nn.functional as F\n",
        "import torchvision\n",
        "from torchvision import transforms\n",
        "from torchvision.datasets import ImageFolder\n",
        "from torch.utils.data import DataLoader, Subset\n"
      ]
    },
    {
      "cell_type": "code",
      "source": [
        "device = torch.device(\"cuda\" if torch.cuda.is_available() else \"cpu\")\n",
        "device"
      ],
      "metadata": {
        "colab": {
          "base_uri": "https://localhost:8080/"
        },
        "id": "XEtoCZx7TFlz",
        "outputId": "89bbf556-25b6-42be-93f3-2549410a0727"
      },
      "execution_count": 3,
      "outputs": [
        {
          "output_type": "execute_result",
          "data": {
            "text/plain": [
              "device(type='cuda')"
            ]
          },
          "metadata": {},
          "execution_count": 3
        }
      ]
    },
    {
      "cell_type": "code",
      "source": [
        "#Data directory\n",
        "data = \"/content/drive/MyDrive/concrete_data\"\n",
        "\n",
        "# Transform for data\n",
        "transform = transforms.Compose([\n",
        "    transforms.Grayscale(1),\n",
        "    transforms.Resize((32, 32)),\n",
        "    transforms.ToTensor()\n",
        "])\n",
        "\n",
        "# ImageFolder to load data with folder names as class names\n",
        "dataset = ImageFolder(root=data, transform=transform)\n",
        "\n",
        "# Group indices by class\n",
        "class_indices = {cls: [] for cls in range(len(dataset.classes))}\n",
        "for idx, (_, label) in enumerate(dataset.samples):\n",
        "    class_indices[label].append(idx)\n",
        "\n",
        "# Take the first 100 per class (sorted order)\n",
        "selected_indices = []\n",
        "for cls, indices in class_indices.items():\n",
        "    indices.sort()  # make sure it's in consistent order\n",
        "    selected_indices.extend(indices[:100])  # take first 100\n",
        "\n",
        "# Create train subset\n",
        "train = Subset(dataset, selected_indices)\n",
        "\n",
        "# Take the 50 per class (sorted order)\n",
        "selected_indices = []\n",
        "for cls, indices in class_indices.items():\n",
        "    indices.sort()  # make sure it's in consistent order\n",
        "    selected_indices.extend(indices[500:551])\n",
        "\n",
        "# Create test subset\n",
        "val = Subset(dataset, selected_indices)\n",
        "\n",
        "# Take the 50 per class (sorted order)\n",
        "selected_indices = []\n",
        "for cls, indices in class_indices.items():\n",
        "    indices.sort()  # make sure it's in consistent order\n",
        "    selected_indices.extend(indices[551:601])\n",
        "\n",
        "# Create test subset\n",
        "test = Subset(dataset, selected_indices)\n",
        "\n",
        "# DataLoader\n",
        "train_loader = DataLoader(train, batch_size=32, shuffle=True)\n",
        "val_loader = DataLoader(val, batch_size=32, shuffle=True)\n",
        "test_loader = DataLoader(test, batch_size=32, shuffle=True)"
      ],
      "metadata": {
        "id": "Vj8ONEU4Oq3y"
      },
      "execution_count": 4,
      "outputs": []
    },
    {
      "cell_type": "code",
      "source": [
        "class lenet(nn.Module):\n",
        "  def __init__(self, classes = 2):\n",
        "    super().__init__()\n",
        "    #The convolutional layers\n",
        "    self.conv1 = nn.Conv2d(in_channels = 1, out_channels = 6, kernel_size = 5)\n",
        "    self.conv2 = nn.Conv2d(in_channels = 6, out_channels = 16, kernel_size = 5)\n",
        "    self.conv3 = nn.Conv2d(in_channels = 16, out_channels = 120, kernel_size = 5)\n",
        "\n",
        "    #The pooling layer\n",
        "    self.pool = nn.AvgPool2d(kernel_size = 2, stride = 2)\n",
        "\n",
        "    #The flattening layer\n",
        "    self.flatten = nn.Flatten()\n",
        "\n",
        "    #The fully connected layer\n",
        "    self.FC1 = nn.Linear(in_features = 120, out_features = 84)\n",
        "    self.FC2 = nn.Linear(in_features = 84, out_features = classes)\n",
        "\n",
        "  #The forward pass\n",
        "  def forward(self,x):\n",
        "    x = self.pool(F.tanh(self.conv1(x)))\n",
        "    x = self.pool(F.tanh(self.conv2(x)))\n",
        "    x = self.flatten(F.tanh(self.conv3(x)))\n",
        "    x = F.tanh(self.FC1(x))\n",
        "    x = self.FC2(x)\n",
        "    return x"
      ],
      "metadata": {
        "id": "p1umsf_A_Ne4"
      },
      "execution_count": 5,
      "outputs": []
    },
    {
      "cell_type": "code",
      "source": [
        "model = lenet()\n",
        "model.to(device)\n",
        "\n",
        "loss = nn.CrossEntropyLoss()\n",
        "optimizer = torch.optim.Adam(model.parameters(), lr = 0.0001)\n",
        "\n",
        "\n",
        "epochs = 10\n",
        "for epoch in range(epochs):\n",
        "  model.train()\n",
        "  running_loss = 0.0\n",
        "  correct = 0\n",
        "  total = 0\n",
        "\n",
        "  for images, labels in train_loader:\n",
        "    images, labels = images.to(device), labels.to(device)\n",
        "\n",
        "    optimizer.zero_grad()\n",
        "    outputs = model(images)\n",
        "    train_loss = loss(outputs, labels)\n",
        "    train_loss.backward()\n",
        "    optimizer.step()\n",
        "    running_loss += train_loss.item()\n",
        "    _, predicted = torch.max(outputs, 1)\n",
        "    total += labels.size(0)\n",
        "    correct += (predicted == labels).sum().item()\n",
        "\n",
        "  train_loss = running_loss/ len(train_loader)\n",
        "  train_accuracy = 100* correct/total\n",
        "\n",
        "  print(f\"Epoch {epoch+1} / {epochs}, train loss = {train_loss}, train accuracy = {train_accuracy}\")\n",
        "\n",
        "for epoch in range(epochs):\n",
        "  model.eval()\n",
        "  running_loss = 0.0\n",
        "  correct = 0\n",
        "  total = 0\n",
        "\n",
        "  for images, labels in val_loader:\n",
        "    images, labels = images.to(device), labels.to(device)\n",
        "\n",
        "    outputs = model(images)\n",
        "    val_loss = loss(outputs, labels)\n",
        "    running_loss += val_loss.item()\n",
        "    _, predicted = torch.max(outputs, 1)\n",
        "    total += labels.size(0)\n",
        "    correct += (predicted == labels).sum().item()\n",
        "\n",
        "  val_loss = running_loss/ len(train_loader)\n",
        "  val_accuracy = 100* correct/total\n",
        "\n",
        "  print(f\"Epoch {epoch+1}/{epochs} | \"\n",
        "            f\"Train Loss: {train_loss:.4f}, Train Acc: {train_accuracy:.2f}% | \"\n",
        "            f\"Val Loss: {val_loss:.4f}, Val Acc: {val_accuracy:.2f}%\")\n",
        "\n",
        "for epoch in range(epochs):\n",
        "  model.eval()\n",
        "  running_loss = 0.0\n",
        "  correct = 0\n",
        "  total = 0\n",
        "\n",
        "  for images, labels in test_loader:\n",
        "    images, labels = images.to(device), labels.to(device)\n",
        "\n",
        "    outputs = model(images)\n",
        "    test_loss = loss(outputs, labels)\n",
        "    running_loss += test_loss.item()\n",
        "    _, predicted = torch.max(outputs, 1)\n",
        "    total += labels.size(0)\n",
        "    correct += (predicted == labels).sum().item()\n",
        "\n",
        "  test_loss = running_loss/ len(train_loader)\n",
        "  test_accuracy = 100* correct/total\n",
        "\n",
        "  print(f\"Epoch {epoch+1}/{epochs} | \"\n",
        "            f\"Train Loss: {train_loss:.4f}, Train Acc: {train_accuracy:.2f}% | \"\n",
        "            f\"Val Loss: {val_loss:.4f}, Val Acc: {val_accuracy:.2f}%\"\n",
        "            f\"Test loss: {test_loss:.4f}, Test Acc: {test_accuracy:.2f}%\")"
      ],
      "metadata": {
        "colab": {
          "base_uri": "https://localhost:8080/"
        },
        "id": "bEuxHkKEVthG",
        "outputId": "aa710ed3-c4c8-4a33-8a3a-b66c91d73640"
      },
      "execution_count": 6,
      "outputs": [
        {
          "output_type": "stream",
          "name": "stdout",
          "text": [
            "Epoch 1 / 10, train loss = 0.6925430383001056, train accuracy = 50.0\n",
            "Epoch 2 / 10, train loss = 0.6943778225353786, train accuracy = 50.0\n",
            "Epoch 3 / 10, train loss = 0.691974231175014, train accuracy = 50.0\n",
            "Epoch 4 / 10, train loss = 0.6842838185174125, train accuracy = 50.0\n",
            "Epoch 5 / 10, train loss = 0.6809602720396859, train accuracy = 50.0\n",
            "Epoch 6 / 10, train loss = 0.6687119432858059, train accuracy = 50.0\n",
            "Epoch 7 / 10, train loss = 0.6604882904461452, train accuracy = 55.5\n",
            "Epoch 8 / 10, train loss = 0.6554746287209647, train accuracy = 54.5\n",
            "Epoch 9 / 10, train loss = 0.6411891409329006, train accuracy = 58.5\n",
            "Epoch 10 / 10, train loss = 0.6316918134689331, train accuracy = 68.0\n",
            "Epoch 1/10 | Train Loss: 0.6317, Train Acc: 68.00% | Val Loss: 0.3618, Val Acc: 56.86%\n",
            "Epoch 2/10 | Train Loss: 0.6317, Train Acc: 68.00% | Val Loss: 0.3758, Val Acc: 56.86%\n",
            "Epoch 3/10 | Train Loss: 0.6317, Train Acc: 68.00% | Val Loss: 0.3686, Val Acc: 56.86%\n",
            "Epoch 4/10 | Train Loss: 0.6317, Train Acc: 68.00% | Val Loss: 0.3602, Val Acc: 56.86%\n",
            "Epoch 5/10 | Train Loss: 0.6317, Train Acc: 68.00% | Val Loss: 0.3696, Val Acc: 56.86%\n",
            "Epoch 6/10 | Train Loss: 0.6317, Train Acc: 68.00% | Val Loss: 0.3718, Val Acc: 56.86%\n",
            "Epoch 7/10 | Train Loss: 0.6317, Train Acc: 68.00% | Val Loss: 0.3633, Val Acc: 56.86%\n",
            "Epoch 8/10 | Train Loss: 0.6317, Train Acc: 68.00% | Val Loss: 0.3677, Val Acc: 56.86%\n",
            "Epoch 9/10 | Train Loss: 0.6317, Train Acc: 68.00% | Val Loss: 0.3619, Val Acc: 56.86%\n",
            "Epoch 10/10 | Train Loss: 0.6317, Train Acc: 68.00% | Val Loss: 0.3650, Val Acc: 56.86%\n",
            "Epoch 1/10 | Train Loss: 0.6317, Train Acc: 68.00% | Val Loss: 0.3650, Val Acc: 56.86%Test loss: 0.3877, Test Acc: 50.00%\n",
            "Epoch 2/10 | Train Loss: 0.6317, Train Acc: 68.00% | Val Loss: 0.3650, Val Acc: 56.86%Test loss: 0.3845, Test Acc: 50.00%\n",
            "Epoch 3/10 | Train Loss: 0.6317, Train Acc: 68.00% | Val Loss: 0.3650, Val Acc: 56.86%Test loss: 0.3753, Test Acc: 50.00%\n",
            "Epoch 4/10 | Train Loss: 0.6317, Train Acc: 68.00% | Val Loss: 0.3650, Val Acc: 56.86%Test loss: 0.3966, Test Acc: 50.00%\n",
            "Epoch 5/10 | Train Loss: 0.6317, Train Acc: 68.00% | Val Loss: 0.3650, Val Acc: 56.86%Test loss: 0.3726, Test Acc: 50.00%\n",
            "Epoch 6/10 | Train Loss: 0.6317, Train Acc: 68.00% | Val Loss: 0.3650, Val Acc: 56.86%Test loss: 0.3795, Test Acc: 50.00%\n",
            "Epoch 7/10 | Train Loss: 0.6317, Train Acc: 68.00% | Val Loss: 0.3650, Val Acc: 56.86%Test loss: 0.3753, Test Acc: 50.00%\n",
            "Epoch 8/10 | Train Loss: 0.6317, Train Acc: 68.00% | Val Loss: 0.3650, Val Acc: 56.86%Test loss: 0.3720, Test Acc: 50.00%\n",
            "Epoch 9/10 | Train Loss: 0.6317, Train Acc: 68.00% | Val Loss: 0.3650, Val Acc: 56.86%Test loss: 0.3915, Test Acc: 50.00%\n",
            "Epoch 10/10 | Train Loss: 0.6317, Train Acc: 68.00% | Val Loss: 0.3650, Val Acc: 56.86%Test loss: 0.3902, Test Acc: 50.00%\n"
          ]
        }
      ]
    }
  ]
}