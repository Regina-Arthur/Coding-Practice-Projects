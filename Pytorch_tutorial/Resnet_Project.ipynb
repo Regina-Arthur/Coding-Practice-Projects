{
  "nbformat": 4,
  "nbformat_minor": 0,
  "metadata": {
    "colab": {
      "provenance": [],
      "gpuType": "T4",
      "authorship_tag": "ABX9TyMpdKjDNZj/6UIBC1FVDg8j",
      "include_colab_link": true
    },
    "kernelspec": {
      "name": "python3",
      "display_name": "Python 3"
    },
    "language_info": {
      "name": "python"
    },
    "accelerator": "GPU"
  },
  "cells": [
    {
      "cell_type": "markdown",
      "metadata": {
        "id": "view-in-github",
        "colab_type": "text"
      },
      "source": [
        "<a href=\"https://colab.research.google.com/github/Regina-Arthur/Python-Coding-Projects/blob/main/Pytorch_tutorial/Resnet_Project.ipynb\" target=\"_parent\"><img src=\"https://colab.research.google.com/assets/colab-badge.svg\" alt=\"Open In Colab\"/></a>"
      ]
    },
    {
      "cell_type": "code",
      "source": [
        "import torch\n",
        "import torch.nn as nn\n",
        "import torchvision\n",
        "import torchvision.transforms as transforms\n",
        "import torchvision.datasets as datasets\n",
        "from torch.utils.data import  Subset\n",
        "from sklearn.model_selection import train_test_split\n",
        "import numpy as np"
      ],
      "metadata": {
        "id": "SP2pLXXiILkn"
      },
      "execution_count": 1,
      "outputs": []
    },
    {
      "cell_type": "code",
      "source": [
        "device = 'cuda' if torch.cuda.is_available() else 'cpu'"
      ],
      "metadata": {
        "id": "jBhDhmqDiVc2"
      },
      "execution_count": 2,
      "outputs": []
    },
    {
      "cell_type": "code",
      "execution_count": 3,
      "metadata": {
        "id": "AZVTj0HGHyj5"
      },
      "outputs": [],
      "source": [
        "class Bottleneck(nn.Module):\n",
        "    expansion = 4  # last Conv expands channels by 4×\n",
        "\n",
        "    def __init__(self, in_channels, out_channels, stride=1, downsample=None):\n",
        "        super().__init__()\n",
        "        # 1x1 Conv (reduce dimensions)\n",
        "        self.conv1 = nn.Conv2d(in_channels= in_channels, out_channels= out_channels, kernel_size=1, stride=1, bias=False)\n",
        "        self.bn1 = nn.BatchNorm2d(out_channels)\n",
        "\n",
        "        # 3x3 Conv (main spatial conv)\n",
        "        self.conv2 = nn.Conv2d(in_channels= out_channels, out_channels= out_channels, kernel_size=3, stride=stride, padding=1, bias=False)\n",
        "        self.bn2 = nn.BatchNorm2d(out_channels)\n",
        "\n",
        "        # 1x1 Conv (expand back up)\n",
        "        self.conv3 = nn.Conv2d(in_channels= out_channels, out_channels= out_channels * self.expansion, kernel_size=1, stride=1, bias=False)\n",
        "        self.bn3 = nn.BatchNorm2d(out_channels * self.expansion)\n",
        "\n",
        "        self.relu = nn.ReLU(inplace=True)\n",
        "        self.downsample = downsample  # used if input/output dims don’t match\n",
        "\n",
        "    def forward(self, x):\n",
        "        identity = x  # save input for skip connection\n",
        "\n",
        "        out = self.relu(self.bn1(self.conv1(x)))\n",
        "        out = self.relu(self.bn2(self.conv2(out)))\n",
        "        out = self.bn3(self.conv3(out))\n",
        "\n",
        "        # adjust dimensions if needed\n",
        "        if self.downsample is not None:\n",
        "            identity = self.downsample(x)\n",
        "\n",
        "        out += identity  # skip connection\n",
        "        out = self.relu(out)\n",
        "\n",
        "        return out\n",
        "\n",
        "\n",
        "class ResNet50(nn.Module):\n",
        "    def __init__(self, num_classes=2):\n",
        "        super().__init__()\n",
        "\n",
        "        # Initial conv layer\n",
        "        self.conv1 = nn.Conv2d(3, 64, kernel_size=7, stride=2, padding=3, bias=False)\n",
        "        self.bn1 = nn.BatchNorm2d(64)\n",
        "        self.relu = nn.ReLU(inplace=True)\n",
        "        self.maxpool = nn.MaxPool2d(kernel_size=3, stride=2, padding=1)\n",
        "\n",
        "        # Residual stages\n",
        "        self.layer1 = self._make_layer(in_channels= 64, out_channels= 64, blocks=3, stride=1)   # 256 out\n",
        "        self.layer2 = self._make_layer(in_channels= 256, out_channels= 128, blocks=4, stride=2) # 512 out\n",
        "        self.layer3 = self._make_layer(in_channels= 512, out_channels= 256, blocks=6, stride=2) # 1024 out\n",
        "        self.layer4 = self._make_layer(in_channels= 1024, out_channels= 512, blocks=3, stride=2)# 2048 out\n",
        "\n",
        "        # Final classification head\n",
        "        self.avgpool = nn.AdaptiveAvgPool2d((1, 1))  # Global AvgPool\n",
        "        self.fc = nn.Linear(512 * Bottleneck.expansion, num_classes)\n",
        "\n",
        "    def _make_layer(self, in_channels, out_channels, blocks, stride):\n",
        "        \"\"\"Builds one stage with multiple bottleneck blocks\"\"\"\n",
        "        downsample = None\n",
        "        if stride != 1 or in_channels != out_channels * Bottleneck.expansion:\n",
        "            downsample = nn.Sequential(\n",
        "                nn.Conv2d(in_channels, out_channels * Bottleneck.expansion, kernel_size=1, stride=stride, bias=False),\n",
        "                nn.BatchNorm2d(out_channels * Bottleneck.expansion)\n",
        "            )\n",
        "\n",
        "        layers = []\n",
        "        layers.append(Bottleneck(in_channels, out_channels, stride, downsample))\n",
        "        for _ in range(1, blocks):\n",
        "            layers.append(Bottleneck(out_channels * Bottleneck.expansion, out_channels))\n",
        "\n",
        "        return nn.Sequential(*layers)\n",
        "\n",
        "    def forward(self, x):\n",
        "        # Initial\n",
        "        x = self.relu(self.bn1(self.conv1(x)))\n",
        "        x = self.maxpool(x)\n",
        "\n",
        "        # Stages\n",
        "        x = self.layer1(x)\n",
        "        x = self.layer2(x)\n",
        "        x = self.layer3(x)\n",
        "        x = self.layer4(x)\n",
        "\n",
        "        # Head\n",
        "        x = self.avgpool(x)\n",
        "        x = torch.flatten(x, 1)\n",
        "        x = self.fc(x)\n",
        "\n",
        "        return x\n"
      ]
    },
    {
      "cell_type": "code",
      "source": [
        "from google.colab import drive\n",
        "drive.mount('/content/drive')"
      ],
      "metadata": {
        "colab": {
          "base_uri": "https://localhost:8080/"
        },
        "id": "U-1Qkq0pXEtQ",
        "outputId": "04857800-d153-4199-a1b0-eb81b9306f25"
      },
      "execution_count": 4,
      "outputs": [
        {
          "output_type": "stream",
          "name": "stdout",
          "text": [
            "Mounted at /content/drive\n"
          ]
        }
      ]
    },
    {
      "cell_type": "code",
      "source": [
        "# # from google.colab import drive\n",
        "# # drive.mount('/content/drive')\n",
        "\n",
        "# zip_file_path = '/content/drive/My Drive/Concrete.rar'  # Replace with your zip file's path\n",
        "# extract_path = '/content/drive/My Drive/concrete_data'  # Desired directory for extracted files\n",
        "\n",
        "# import os\n",
        "# os.makedirs(extract_path, exist_ok=True)\n",
        "\n",
        "# !apt-get install unrar\n",
        "# !unrar x -o+ \"$zip_file_path\" \"$extract_path\""
      ],
      "metadata": {
        "id": "SWy-77iFzMUL"
      },
      "execution_count": null,
      "outputs": []
    },
    {
      "cell_type": "code",
      "source": [
        "transform = transforms.Compose([\n",
        "    transforms.Resize((224, 224)),\n",
        "    transforms.PILToTensor(),\n",
        "    transforms.ConvertImageDtype(torch.float)\n",
        "])\n",
        "\n",
        "data = \"/content/drive/My Drive/concrete_data\"\n",
        "\n",
        "dataset = datasets.ImageFolder(root= data, transform= transform)\n",
        "print(dataset.classes, dataset.class_to_idx)\n",
        "\n",
        "# Get all labels (targets)\n",
        "labels = [label for _, label in dataset.samples]  # list of class indices\n",
        "labels = np.array(labels)\n",
        "\n",
        "# First split train+val vs test\n",
        "train_val_idx, test_idx = train_test_split(\n",
        "    np.arange(len(labels)),\n",
        "    test_size=0.15,\n",
        "    stratify=labels,\n",
        "    random_state=42\n",
        ")\n",
        "\n",
        "# Now split train vs val\n",
        "train_idx, val_idx = train_test_split(\n",
        "    train_val_idx,\n",
        "    test_size=0.15,\n",
        "    stratify=labels[train_val_idx],\n",
        "    random_state=42\n",
        ")\n",
        "\n",
        "\n",
        "train= Subset(dataset, train_idx)\n",
        "val = Subset(dataset, val_idx)\n",
        "test = Subset(dataset, test_idx)\n",
        "\n",
        "# image, label = train[0]\n",
        "# print(image.shape, label)\n",
        "\n",
        "train_loader = torch.utils.data.DataLoader(train, batch_size=32, shuffle=True)\n",
        "val_loader = torch.utils.data.DataLoader(val, batch_size=32, shuffle=True)\n",
        "test_loader = torch.utils.data.DataLoader(test, batch_size=32, shuffle=False)"
      ],
      "metadata": {
        "colab": {
          "base_uri": "https://localhost:8080/"
        },
        "id": "eCM5p1NXMx_b",
        "outputId": "9931fb14-404e-4145-d2a8-d8c6e28c1181"
      },
      "execution_count": 11,
      "outputs": [
        {
          "output_type": "stream",
          "name": "stdout",
          "text": [
            "['Negative', 'Positive'] {'Negative': 0, 'Positive': 1}\n"
          ]
        }
      ]
    },
    {
      "cell_type": "code",
      "source": [
        "model = ResNet50()\n",
        "model.to(device)\n",
        "\n",
        "loss = nn.CrossEntropyLoss()\n",
        "optimizer = torch.optim.Adam(model.parameters(), lr = 0.0001)\n",
        "\n",
        "\n",
        "epochs = 100\n",
        "for epoch in range(epochs):\n",
        "  model.train()\n",
        "  running_loss = 0.0\n",
        "  correct = 0\n",
        "  total = 0\n",
        "\n",
        "  for images, labels in train_loader:\n",
        "    images, labels = images.to(device), labels.to(device)\n",
        "\n",
        "    optimizer.zero_grad()\n",
        "    outputs = model(images)\n",
        "    train_loss = loss(outputs, labels)\n",
        "    train_loss.backward()\n",
        "    optimizer.step()\n",
        "    running_loss += train_loss.item()\n",
        "    _, predicted = torch.max(outputs, 1)\n",
        "    total += labels.size(0)\n",
        "    correct += (predicted == labels).sum().item()\n",
        "\n",
        "  train_loss = running_loss/ len(train_loader)\n",
        "  train_accuracy = 100* correct/total\n",
        "\n",
        "  print(f\"Epoch {epoch+1} / {epochs}, train loss = {train_loss}, train accuracy = {train_accuracy}\")\n",
        "\n",
        "for epoch in range(epochs):\n",
        "  model.eval()\n",
        "  running_loss = 0.0\n",
        "  correct = 0\n",
        "  total = 0\n",
        "\n",
        "  for images, labels in val_loader:\n",
        "    images, labels = images.to(device), labels.to(device)\n",
        "\n",
        "    outputs = model(images)\n",
        "    val_loss = loss(outputs, labels)\n",
        "    running_loss += val_loss.item()\n",
        "    _, predicted = torch.max(outputs, 1)\n",
        "    total += labels.size(0)\n",
        "    correct += (predicted == labels).sum().item()\n",
        "\n",
        "  val_loss = running_loss/ len(train_loader)\n",
        "  val_accuracy = 100* correct/total\n",
        "\n",
        "  print(f\"Epoch {epoch+1}/{epochs} | \"\n",
        "            f\"Train Loss: {train_loss:.4f}, Train Acc: {train_accuracy:.2f}% | \"\n",
        "            f\"Val Loss: {val_loss:.4f}, Val Acc: {val_accuracy:.2f}%\")\n",
        "\n",
        "for epoch in range(epochs):\n",
        "  model.eval()\n",
        "  running_loss = 0.0\n",
        "  correct = 0\n",
        "  total = 0\n",
        "\n",
        "  for images, labels in test_loader:\n",
        "    images, labels = images.to(device), labels.to(device)\n",
        "\n",
        "    outputs = model(images)\n",
        "    test_loss = loss(outputs, labels)\n",
        "    running_loss += test_loss.item()\n",
        "    _, predicted = torch.max(outputs, 1)\n",
        "    total += labels.size(0)\n",
        "    correct += (predicted == labels).sum().item()\n",
        "\n",
        "  test_loss = running_loss/ len(train_loader)\n",
        "  test_accuracy = 100* correct/total\n",
        "\n",
        "  print(f\"Epoch {epoch+1}/{epochs} | \"\n",
        "            f\"Train Loss: {train_loss:.4f}, Train Acc: {train_accuracy:.2f}% | \"\n",
        "            f\"Val Loss: {val_loss:.4f}, Val Acc: {val_accuracy:.2f}%\"\n",
        "            f\"Test loss: {test_loss:.4f}, Test Acc: {test_accuracy:.2f}%\")"
      ],
      "metadata": {
        "id": "ypBdp1MCitRQ"
      },
      "execution_count": null,
      "outputs": []
    }
  ]
}