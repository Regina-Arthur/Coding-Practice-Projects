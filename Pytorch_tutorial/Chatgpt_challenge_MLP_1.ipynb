{
  "nbformat": 4,
  "nbformat_minor": 0,
  "metadata": {
    "colab": {
      "provenance": [],
      "authorship_tag": "ABX9TyO6+IX3UdPjn4+gFOYYGGiJ",
      "include_colab_link": true
    },
    "kernelspec": {
      "name": "python3",
      "display_name": "Python 3"
    },
    "language_info": {
      "name": "python"
    }
  },
  "cells": [
    {
      "cell_type": "markdown",
      "metadata": {
        "id": "view-in-github",
        "colab_type": "text"
      },
      "source": [
        "<a href=\"https://colab.research.google.com/github/Regina-Arthur/Coding-Practice-Projects/blob/main/Pytorch_tutorial/Chatgpt_challenge_MLP_1.ipynb\" target=\"_parent\"><img src=\"https://colab.research.google.com/assets/colab-badge.svg\" alt=\"Open In Colab\"/></a>"
      ]
    },
    {
      "cell_type": "code",
      "execution_count": 2,
      "metadata": {
        "id": "JtwnuvaPIXRk"
      },
      "outputs": [],
      "source": [
        "import torch\n",
        "import torch.nn as nn\n",
        "import torchvision\n",
        "import torchvision.transforms as transforms"
      ]
    },
    {
      "cell_type": "code",
      "source": [
        "device = torch.device(\"cuda\" if torch.cuda.is_available() else \"cpu\")\n",
        "device"
      ],
      "metadata": {
        "colab": {
          "base_uri": "https://localhost:8080/"
        },
        "id": "J0gZ1qrMR9wP",
        "outputId": "79b4d8b0-af49-46a0-efbf-2043a07736a2"
      },
      "execution_count": 5,
      "outputs": [
        {
          "output_type": "execute_result",
          "data": {
            "text/plain": [
              "device(type='cpu')"
            ]
          },
          "metadata": {},
          "execution_count": 5
        }
      ]
    },
    {
      "cell_type": "code",
      "source": [
        "class MNISTModel(nn.Module):\n",
        "  def __init__(self):\n",
        "    super().__init__()\n",
        "    self.flatten = nn.Flatten()\n",
        "    self.hidden_1 = nn.Linear(in_features = 784, out_features = 256)\n",
        "    self.hidden_2 = nn.Linear(in_features = 256, out_features = 128)\n",
        "    self.output = nn.Linear(in_features = 128, out_features = 10)\n",
        "    self.relu = nn.ReLU()\n",
        "    self.logsoftmax = nn.LogSoftmax(dim = 1)\n",
        "\n",
        "  def forward(self,x):\n",
        "    x = self.flatten(x)\n",
        "    x = self.relu(self.hidden_1(x))\n",
        "    x = self.relu(self.hidden_2(x))\n",
        "    x = self.logsoftmax(self.output(x))\n",
        "    return x"
      ],
      "metadata": {
        "id": "4j3l6JL8IzeD"
      },
      "execution_count": null,
      "outputs": []
    },
    {
      "cell_type": "code",
      "source": [
        "root = \"/content\"\n",
        "transforms = transforms.Compose([\n",
        "    transforms.PILToTensor(),\n",
        "    transforms.ConvertImageDtype(dtype = torch.float32),\n",
        "    transforms.Normalize(mean = 0.1307, std = 0.3081)\n",
        "])\n",
        "\n",
        "train = torchvision.datasets.MNIST(root = root, transform = transforms, download = True)\n",
        "test = torchvision.datasets.MNIST(root = root, train = False, transform = transforms, download = True)\n",
        "train_loader = torch.utils.data.DataLoader(dataset = train,batch_size = 64, shuffle = True)\n",
        "test_loader = torch.utils.data.DataLoader(dataset = test,batch_size = 64)"
      ],
      "metadata": {
        "id": "9wOXt-trK_nL"
      },
      "execution_count": null,
      "outputs": []
    },
    {
      "cell_type": "code",
      "source": [
        "model = MNISTModel().to(device)\n",
        "optimizer = torch.optim.Adam(params = model.parameters(),lr = 0.001)\n",
        "loss_function = torch.nn.CrossEntropyLoss()\n",
        "\n",
        "epochs = 2\n",
        "model.train()\n",
        "for epoch in range(0,epochs):\n",
        "  loss = []\n",
        "  accuracy = []\n",
        "  for input,target in train_loader:\n",
        "    x = input.to(device)\n",
        "    y = target.to(device)\n",
        "    value = model(x)\n",
        "    train_loss = loss_function(value, y)\n",
        "    loss.append(train_loss.item())\n",
        "    optimizer.zero_grad()\n",
        "    train_loss.backward()\n",
        "    optimizer.step()\n",
        "\n",
        "    print(f\"Epoch {epoch +1}/{epochs} epochs, loss = {train_loss.item():.4f}\")\n",
        "\n",
        "model.eval()\n",
        "loss = []\n",
        "for input,target in test_loader:\n",
        "  x = input.to(device)\n",
        "  y = target.to(device)\n",
        "  value = model(x)\n",
        "  test_loss = loss_function(value, y)\n",
        "  loss.append(test_loss.item())\n",
        "  print(f\"loss = {test_loss.item():.4f}\")\n"
      ],
      "metadata": {
        "id": "XpfHqrrgQFt1"
      },
      "execution_count": null,
      "outputs": []
    },
    {
      "cell_type": "markdown",
      "source": [
        "what I am left to do calculate average loss and accuracy, and go through code. Other than that, I have done very well."
      ],
      "metadata": {
        "id": "rTvRBerre6Tv"
      }
    }
  ]
}