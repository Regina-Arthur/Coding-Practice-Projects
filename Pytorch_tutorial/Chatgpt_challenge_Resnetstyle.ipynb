{
  "nbformat": 4,
  "nbformat_minor": 0,
  "metadata": {
    "colab": {
      "provenance": [],
      "authorship_tag": "ABX9TyMxBMkrtseehl2u4ljQ71qT",
      "include_colab_link": true
    },
    "kernelspec": {
      "name": "python3",
      "display_name": "Python 3"
    },
    "language_info": {
      "name": "python"
    }
  },
  "cells": [
    {
      "cell_type": "markdown",
      "metadata": {
        "id": "view-in-github",
        "colab_type": "text"
      },
      "source": [
        "<a href=\"https://colab.research.google.com/github/Regina-Arthur/Coding-Practice-Projects/blob/main/Pytorch_tutorial/Chatgpt_challenge.ipynb\" target=\"_parent\"><img src=\"https://colab.research.google.com/assets/colab-badge.svg\" alt=\"Open In Colab\"/></a>"
      ]
    },
    {
      "cell_type": "code",
      "execution_count": 1,
      "metadata": {
        "id": "JkgJ08a2Sv7R"
      },
      "outputs": [],
      "source": [
        "import torch\n",
        "import torch.nn as nn\n"
      ]
    },
    {
      "cell_type": "code",
      "source": [
        "class model(nn.Module):\n",
        "  def __init__(self):\n",
        "    super().__init__\n",
        "    self.layer1 = nn.Conv2d(in_channels = 3, out_channels = 64, kernel_size = 7, stride = 2, padding = 3)\n",
        "    self.batchnorm = nn.BatchNorm2d(num_features = 64)\n",
        "    self.relu = nn.ReLU()\n",
        "    self.pooling = nn.MaxPool2d(kernel_size = 3, stride = 2, padding = 1)\n",
        "    self.resblock = nn.Sequential((nn.Conv2d(in_channels = 64 , out_channels =64 , kernel_size = 3, stride = 1, padding = 1),\n",
        "                                  nn.BatchNorm2d(num_features = 64),\n",
        "                                  nn.ReLU()),\n",
        "                                  (nn.Conv2d(in_channels = 64 , out_channels =64 , kernel_size = 3, stride = 1, padding = 1),\n",
        "                                  nn.BatchNorm2d(num_features = 64),\n",
        "                                  #we need to put a skip connection here, so we will define a function for that and add it\n",
        "                                  nn.ReLU()))\n",
        "    self.resblock = nn.Sequential((nn.Conv2d(in_channels = 64 , out_channels =64 , kernel_size = 3, stride = 1, padding = 1),\n",
        "                                  nn.BatchNorm2d(num_features = 64),\n",
        "                                  nn.ReLU()),\n",
        "                                  (nn.Conv2d(in_channels = 64 , out_channels =64 , kernel_size = 3, stride = 1, padding = 1),\n",
        "                                  nn.BatchNorm2d(num_features = 64),\n",
        "                                  #we need to put a skip connection here, so we will define a function for that and add it\n",
        "                                  nn.ReLU()))"
      ],
      "metadata": {
        "id": "H_r-4CHhWOX4"
      },
      "execution_count": null,
      "outputs": []
    }
  ]
}
