{
  "nbformat": 4,
  "nbformat_minor": 0,
  "metadata": {
    "colab": {
      "provenance": [],
      "authorship_tag": "ABX9TyMldbdTsm007UeNnyur506A",
      "include_colab_link": true
    },
    "kernelspec": {
      "name": "python3",
      "display_name": "Python 3"
    },
    "language_info": {
      "name": "python"
    }
  },
  "cells": [
    {
      "cell_type": "markdown",
      "metadata": {
        "id": "view-in-github",
        "colab_type": "text"
      },
      "source": [
        "<a href=\"https://colab.research.google.com/github/Regina-Arthur/Coding-Practice-Projects/blob/main/Stanford_Computer_Vision/Notes/CNN_Architecture.ipynb\" target=\"_parent\"><img src=\"https://colab.research.google.com/assets/colab-badge.svg\" alt=\"Open In Colab\"/></a>"
      ]
    },
    {
      "cell_type": "markdown",
      "source": [
        "###**Lecture 6:** ***CNN Architecture***"
      ],
      "metadata": {
        "id": "TOEo5VIHJQ9m"
      }
    },
    {
      "cell_type": "markdown",
      "source": [
        "####**What will be covered**\n",
        "**How to build CNNs**\n",
        "* Layers in CNNs\n",
        "* Activation Functions\n",
        "* CNN Architectures\n",
        "* Weight Initialization\n",
        "\n",
        "**How to train CNNs**\n",
        "* Data Preprocessing\n",
        "* Data Augmentation\n",
        "* Transfer Learning\n",
        "* Hyperparameter Selection\n",
        "\n",
        "\n",
        "\n",
        "\n"
      ],
      "metadata": {
        "id": "q7dU7LSfKV4s"
      }
    },
    {
      "cell_type": "markdown",
      "source": [],
      "metadata": {
        "id": "hVwRjdOqLm-y"
      }
    }
  ]
}