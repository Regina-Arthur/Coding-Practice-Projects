{
  "nbformat": 4,
  "nbformat_minor": 0,
  "metadata": {
    "colab": {
      "provenance": [],
      "authorship_tag": "ABX9TyOAPyC7QyQvB1aZeIeBkSrZ",
      "include_colab_link": true
    },
    "kernelspec": {
      "name": "python3",
      "display_name": "Python 3"
    },
    "language_info": {
      "name": "python"
    }
  },
  "cells": [
    {
      "cell_type": "markdown",
      "metadata": {
        "id": "view-in-github",
        "colab_type": "text"
      },
      "source": [
        "<a href=\"https://colab.research.google.com/github/Regina-Arthur/Coding-Practice-Projects/blob/main/Stanford_Computer_Vision/Notes/CNN_Architecture.ipynb\" target=\"_parent\"><img src=\"https://colab.research.google.com/assets/colab-badge.svg\" alt=\"Open In Colab\"/></a>"
      ]
    },
    {
      "cell_type": "markdown",
      "source": [
        "###**Lecture 6:** ***CNN Architecture***"
      ],
      "metadata": {
        "id": "TOEo5VIHJQ9m"
      }
    },
    {
      "cell_type": "markdown",
      "source": [
        "####**What will be covered**\n",
        "**How to build CNNs**\n",
        "* Layers in CNNs\n",
        "* Activation Functions\n",
        "* CNN Architectures\n",
        "* Weight Initialization\n",
        "\n",
        "**How to train CNNs**\n",
        "* Data Preprocessing\n",
        "* Data Augmentation\n",
        "* Transfer Learning\n",
        "* Hyperparameter Selection\n",
        "\n",
        "\n",
        "\n",
        "\n"
      ],
      "metadata": {
        "id": "q7dU7LSfKV4s"
      }
    },
    {
      "cell_type": "markdown",
      "source": [
        "**Layers(Components) in CNNs**\n",
        "* Convolutional Layer\n",
        "* Activation Function\n",
        "* Pooling Layer\n",
        "* Fully Connected Layer\n",
        "* Normalization Layer (There are alternatives)\n",
        "* Dropout Layer (depends on you)\n"
      ],
      "metadata": {
        "id": "hVwRjdOqLm-y"
      }
    },
    {
      "cell_type": "markdown",
      "source": [
        "**Normalization Layer**\n",
        "* What is it?\n",
        "* Why is it needed?\n",
        "* How does it work?\n",
        "* When do I use it in practice\n",
        "* How do I do it in practice?"
      ],
      "metadata": {
        "id": "72wMMhp8OMl4"
      }
    },
    {
      "cell_type": "markdown",
      "source": [
        "**What is it?**\n"
      ],
      "metadata": {
        "id": "FLqtZAf7eaiD"
      }
    },
    {
      "cell_type": "markdown",
      "source": [
        "**How do I do it in practice?**\n",
        "\n",
        "***Pytorch Implementation***\n",
        "\n",
        "1. For 1D inputs (Specifically (sequences (text, audio, time series, and flattened images))\n",
        "\n",
        "    A. BatchNorm1d\n",
        "    \n",
        "    class torch.nn.BatchNorm1d(num_features, eps=1e-05, momentum=0.1,\n",
        "    affine=True, track_running_stats=True, device=None, dtype=None)\n",
        "\n",
        "    Parameters\n",
        "     \n",
        "     num_features (int) – number of features or channels C of the input\n",
        "\n",
        "     eps (float) – a value added to the denominator for numerical stability.\n",
        "     Default: 1e-5\n",
        "\n",
        "     momentum (Optional[float]) – the value used for the running_mean and\n",
        "     running_var computation. Can be set to None for cumulative moving\n",
        "     average (i.e. simple average). Default: 0.1\n",
        "\n",
        "     affine (bool) – a boolean value that when set to True, this module has\n",
        "     learnable affine parameters. Default: True\n",
        "\n",
        "     track_running_stats (bool) – a boolean value that when set to True, this\n",
        "     module tracks the running mean and variance, and when set to False, this\n",
        "     module does not track such statistics, and initializes statistics\n",
        "     buffers running_mean and running_var as None. When these buffers are\n",
        "     None, this module always uses batch statistics. in both training and\n",
        "     eval modes. Default: True\n",
        "\n",
        "    B. InstanceNorm1d\n",
        "    \n",
        "    class torch.nn.InstanceNorm1d(num_features, eps=1e-05, momentum=0.1,\n",
        "    affine=False, track_running_stats=False, device=None, dtype=None)\n",
        "\n",
        "    Parameters\n",
        "      \n",
        "      num_features (int) – number of features or channels C of the input\n",
        "\n",
        "      eps (float) – a value added to the denominator for numerical stability.\n",
        "      Default: 1e-5\n",
        "\n",
        "      momentum (Optional[float]) – the value used for the running_mean and\n",
        "      running_var computation. Default: 0.1\n",
        "\n",
        "      affine (bool) – a boolean value that when set to True, this module has\n",
        "      learnable affine parameters, initialized the same way as done for batch\n",
        "      normalization. Default: False.\n",
        "\n",
        "      track_running_stats (bool) – a boolean value that when set to True,\n",
        "      this module tracks the running mean and variance, and when set to\n",
        "      False, this module does not track such statistics and always uses batch\n",
        "      statistics in both training and eval modes. Default: False\n",
        "\n",
        "    C. LazyBatchNorm1d\n",
        "    class torch.nn.LazyBatchNorm1d(eps=1e-05, momentum=0.1, affine=True, track_running_stats=True, device=None, dtype=None)\n",
        "\n",
        "    Parameters\n",
        "      \n",
        "      eps (float) – a value added to the denominator for numerical stability.\n",
        "      Default: 1e-5\n",
        "\n",
        "      momentum (Optional[float]) – the value used for the running_mean and\n",
        "      running_var computation. Can be set to None for cumulative moving\n",
        "      average (i.e. simple average). Default: 0.1\n",
        "\n",
        "      affine (bool) – a boolean value that when set to True, this module has\n",
        "      learnable affine parameters. Default: True\n",
        "\n",
        "      track_running_stats (bool) – a boolean value that when set to True,\n",
        "      this module tracks the running mean and variance, and when set to\n",
        "      False, this module does not track such statistics, and initializes\n",
        "      statistics buffers running_mean and running_var as None. When these\n",
        "      buffers are None, this module always uses batch statistics. in both\n",
        "      training and eval modes. Default: True\n",
        "\n",
        "    D. LazyInstanceNorm1d\n",
        "    \n",
        "    class torch.nn.LazyInstanceNorm1d(eps=1e-05, momentum=0.1, affine=True,\n",
        "    track_running_stats=True, device=None, dtype=None)\n",
        "\n",
        "    Parameters\n",
        "      \n",
        "      num_features – C from an expected input of size (N,C,L) or (C,L)\n",
        "\n",
        "      eps (float) – a value added to the denominator for numerical stability.\n",
        "      Default: 1e-5\n",
        "\n",
        "      momentum (Optional[float]) – the value used for the running_mean and\n",
        "      running_var computation. Default: 0.1\n",
        "\n",
        "      affine (bool) – a boolean value that when set to True, this module has\n",
        "      learnable affine parameters, initialized the same way as done for batch\n",
        "      normalization. Default: False.\n",
        "\n",
        "      track_running_stats (bool) – a boolean value that when set to True,\n",
        "      this module tracks the running mean and variance, and when set to\n",
        "      False, this module does not track such statistics and always uses batch\n",
        "      statistics in both training and eval modes. Default: False\n",
        "\n",
        "For 2D inputs (Specifically)\n",
        "    \n",
        "    A. BatchNorm2d\n",
        "\n",
        "    class torch.nn.BatchNorm2d(num_features, eps=1e-05, momentum=0.1,\n",
        "    affine=True, track_running_stats=True, device=None, dtype=None)\n",
        "\n",
        "    Parameters\n",
        "      num_features (int) – C from an expected input of size (N,C,H,W)\n",
        "\n",
        "      eps (float) – a value added to the denominator for numerical stability. Default: 1e-5\n",
        "\n",
        "      momentum (Optional[float]) – the value used for the running_mean and running_var computation. Can be set to None for cumulative moving average (i.e. simple average). Default: 0.1\n",
        "\n",
        "      affine (bool) – a boolean value that when set to True, this module has learnable affine parameters. Default: True\n",
        "\n",
        "      track_running_stats (bool) – a boolean value that when set to True, this module tracks the running mean and variance, and when set to False, this module does not track such statistics, and initializes statistics buffers running_mean and running_var as None. When these buffers are None, this module always uses batch statistics. in both training and eval modes. Default: True\n",
        "\n",
        "    \n",
        "    B.InstanceNorm2d\n",
        "\n",
        "    class torch.nn.InstanceNorm2d(num_features, eps=1e-05, momentum=0.1,\n",
        "    affine=False, track_running_stats=False, device=None, dtype=None)\n",
        "\n",
        "    Parameters\n",
        "      \n",
        "      num_features (int) – C from an expected input of size (N,C,H,W) or (C,H,W)\n",
        "\n",
        "      eps (float) – a value added to the denominator for numerical stability. Default: 1e-5\n",
        "\n",
        "      momentum (Optional[float]) – the value used for the running_mean and running_var computation. Default: 0.1\n",
        "\n",
        "      affine (bool) – a boolean value that when set to True, this module has learnable affine parameters, initialized the same way as done for batch normalization. Default: False.\n",
        "\n",
        "      track_running_stats (bool) – a boolean value that when set to True, this module tracks the running mean and variance, and when set to False, this module does not track such statistics and always uses batch statistics in both training and eval modes. Default: False\n",
        "\n",
        "    C. LazyBatchNorm2d\n",
        "    \n",
        "    class torch.nn.LazyBatchNorm2d(eps=1e-05, momentum=0.1, affine=True,\n",
        "    track_running_stats=True, device=None, dtype=None)\n",
        "\n",
        "    Parameters\n",
        "\n",
        "      eps (float) – a value added to the denominator for numerical stability. Default: 1e-5\n",
        "\n",
        "      momentum (Optional[float]) – the value used for the running_mean and running_var computation. Can be set to None for cumulative moving average (i.e. simple average). Default: 0.1\n",
        "\n",
        "      affine (bool) – a boolean value that when set to True, this module has learnable affine parameters. Default: True\n",
        "\n",
        "      track_running_stats (bool) – a boolean value that when set to True, this module tracks the running mean and variance, and when set to False, this module does not track such statistics, and initializes statistics buffers running_mean and running_var as None. When these buffers are None, this module always uses batch statistics. in both training and eval modes. Default: True\n",
        "\n",
        "    D. LazyInstanceNorm2d\n",
        "    \n",
        "    class torch.nn.LazyInstanceNorm2d(eps=1e-05, momentum=0.1, affine=True,\n",
        "    track_running_stats=True, device=None, dtype=None)\n",
        "\n",
        "    Parameters\n",
        "      num_features – C from an expected input of size (N,C,H,W) or (C,H,W)\n",
        "\n",
        "      eps (float) – a value added to the denominator for numerical stability. Default: 1e-5\n",
        "\n",
        "      momentum (Optional[float]) – the value used for the running_mean and running_var computation. Default: 0.1\n",
        "\n",
        "      affine (bool) – a boolean value that when set to True, this module has learnable affine parameters, initialized the same way as done for batch normalization. Default: False.\n",
        "\n",
        "      track_running_stats (bool) – a boolean value that when set to True, this module tracks the running mean and variance, and when set to False, this module does not track such statistics and always uses batch statistics in both training and eval modes. Default: False\n",
        "\n",
        "\n",
        "\n",
        "#####**Note that these also have a 3D Version for 3D inputs**\n",
        "#####**There are also some normalization layers that work regardless of the input dimension, example LayerNorm, RMSNorm, SyncBatchNorm, and GroupNorm**\n",
        "\n"
      ],
      "metadata": {
        "id": "2pyOPtzsPdKW"
      }
    },
    {
      "cell_type": "code",
      "source": [],
      "metadata": {
        "id": "QY7EGfasdQwI"
      },
      "execution_count": null,
      "outputs": []
    }
  ]
}